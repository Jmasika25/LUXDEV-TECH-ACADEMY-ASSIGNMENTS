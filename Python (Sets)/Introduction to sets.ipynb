{
 "cells": [
  {
   "cell_type": "markdown",
   "id": "6845f237",
   "metadata": {},
   "source": [
    "# Introduction to Set theory Assignment"
   ]
  },
  {
   "cell_type": "markdown",
   "id": "9178ed4c",
   "metadata": {},
   "source": [
    "#### Each car (Mary’s car + 2 others = 3 total) can choose one of three directions: Left (L), Straight (S), or Right (R). We’ll denote a full outcome by a 3-letter sequence such as \"LLL\" (all go left), or \"RSR\" (1st right, 2nd straight, 3rd right). The total number of possible outcomes is 3^3=27."
   ]
  },
  {
   "cell_type": "markdown",
   "id": "e2ba8846",
   "metadata": {},
   "source": [
    "## a. Set A: All cars drive in the same direction\n",
    "- This means all three cars choose the same option. So: A = {LLL, SSS, RRR}\n",
    "\n"
   ]
  },
  {
   "cell_type": "markdown",
   "id": "1362ce95",
   "metadata": {},
   "source": [
    "## b. Set B: All cars drive in different directions\n",
    "- This means each car takes a unique direction, using all three options (L, S, R). There are \n",
    "3!=6 such permutations:\n",
    "\n",
    "- B = {LSR, LRS, SLR, SRL, RLS, RSL}"
   ]
  },
  {
   "cell_type": "markdown",
   "id": "176cfd96",
   "metadata": {},
   "source": [
    "## c. Set C: Exactly 2 cars turn right\n",
    "- So two cars must choose \"R\" and the third must choose either \"L\" or \"S\" (but not R).\n",
    "\n",
    "- There are:\n",
    "\n",
    "   - 2 R's and 1 L: RRL, RLR, LRR\n",
    "\n",
    "   - 2 R's and 1 S: RRS, RSR, SRR\n",
    "\n",
    "C = {RRL, RLR, LRR, RRS, RSR, SRR}"
   ]
  },
  {
   "cell_type": "markdown",
   "id": "2bb41c18",
   "metadata": {},
   "source": [
    "## d. Set D: Exactly 2 cars drive in the same direction\n",
    "- This means a majority pair and one odd one out — but not all the same (that would be part of Set A).\n",
    "\n",
    "- Let’s count all such combinations where exactly two match:\n",
    "\n",
    "  - L, L, S: LLS, LSL, SLL\n",
    "\n",
    "  - L, L, R: LLR, LRL, RLL\n",
    "\n",
    "  - S, S, L: SSL, SLS, LSS\n",
    "\n",
    "  - S, S, R: SSR, SRS, RSS\n",
    "\n",
    "  - R, R, L: RRL, RLR, LRR\n",
    "\n",
    "  - R, R, S: RRS, RSR, SRR\n",
    "\n",
    "Total of 18 elements:\n",
    "\n",
    "D = {LLS, LSL, SLL, LLR, LRL, RLL, SSL, SLS, LSS, SSR, SRS, RSS, RRL, RLR, LRR, RRS, RSR, SRR}"
   ]
  },
  {
   "cell_type": "markdown",
   "id": "321dbfd5",
   "metadata": {},
   "source": [
    "## e. Interpret and list outcomes\n",
    "### I. D′ (complement of D)\n",
    "- This is the set of all outcomes not in D.\n",
    "\n",
    "Since total outcomes = 27, and |D| = 18, we just need to list the other 9 outcomes:\n",
    "\n",
    "D′ = {LLL, SSS, RRR, LSR, LRS, SLR, SRL, RLS, RSL}\n",
    "\n",
    "That’s:\n",
    "\n",
    "  - Set A (all same): {LLL, SSS, RRR}\n",
    "\n",
    "  - Set B (all different): {LSR, LRS, SLR, SRL, RLS, RSL}\n",
    "\n",
    "### II. C ∩ D (intersection of sets C and D)\n",
    "- These are outcomes that appear in both C and D.\n",
    "\n",
    "From earlier:\n",
    "\n",
    "  - C = {RRL, RLR, LRR, RRS, RSR, SRR}\n",
    "\n",
    "  - D includes all of those (check D list above)\n",
    "\n",
    "So:\n",
    "\n",
    "C ∩ D = {RRL, RLR, LRR, RRS, RSR, SRR}\n",
    "\n",
    "Which means: all of C is a subset of D.\n",
    "\n",
    "### III. C ∪ D (union of sets C and D)\n",
    "- This includes all unique elements from either C or D.\n",
    "\n",
    "Since C is a subset of D:\n",
    "\n",
    "C ∪ D = D\n",
    "\n",
    "So:\n",
    "\n",
    "C ∪ D = {LLS, LSL, SLL, LLR, LRL, RLL, SSL, SLS, LSS, SSR, SRS, RSS, RRL, RLR, LRR, RRS, RSR, SRR}"
   ]
  },
  {
   "cell_type": "markdown",
   "id": "3a930684",
   "metadata": {},
   "source": [
    "## The European Countries"
   ]
  },
  {
   "cell_type": "code",
   "execution_count": 9,
   "id": "d3a20bdd",
   "metadata": {},
   "outputs": [
    {
     "name": "stdout",
     "output_type": "stream",
     "text": [
      "Requirement already satisfied: openpyxl in c:\\users\\user\\appdata\\local\\packages\\pythonsoftwarefoundation.python.3.11_qbz5n2kfra8p0\\localcache\\local-packages\\python311\\site-packages (3.1.5)\n",
      "Requirement already satisfied: et-xmlfile in c:\\users\\user\\appdata\\local\\packages\\pythonsoftwarefoundation.python.3.11_qbz5n2kfra8p0\\localcache\\local-packages\\python311\\site-packages (from openpyxl) (2.0.0)\n"
     ]
    },
    {
     "name": "stderr",
     "output_type": "stream",
     "text": [
      "\n",
      "[notice] A new release of pip is available: 24.0 -> 25.1.1\n",
      "[notice] To update, run: C:\\Users\\USER\\AppData\\Local\\Microsoft\\WindowsApps\\PythonSoftwareFoundation.Python.3.11_qbz5n2kfra8p0\\python.exe -m pip install --upgrade pip\n"
     ]
    },
    {
     "data": {
      "text/html": [
       "<div>\n",
       "<style scoped>\n",
       "    .dataframe tbody tr th:only-of-type {\n",
       "        vertical-align: middle;\n",
       "    }\n",
       "\n",
       "    .dataframe tbody tr th {\n",
       "        vertical-align: top;\n",
       "    }\n",
       "\n",
       "    .dataframe thead th {\n",
       "        text-align: right;\n",
       "    }\n",
       "</style>\n",
       "<table border=\"1\" class=\"dataframe\">\n",
       "  <thead>\n",
       "    <tr style=\"text-align: right;\">\n",
       "      <th></th>\n",
       "      <th>Rank</th>\n",
       "      <th>Country</th>\n",
       "      <th>2017 population</th>\n",
       "      <th>% of pop.</th>\n",
       "      <th>Average relative annual growth</th>\n",
       "      <th>Average absolute annual growth</th>\n",
       "      <th>Official figure</th>\n",
       "      <th>Date of last figure</th>\n",
       "      <th>Source</th>\n",
       "    </tr>\n",
       "  </thead>\n",
       "  <tbody>\n",
       "    <tr>\n",
       "      <th>0</th>\n",
       "      <td>1</td>\n",
       "      <td>Germany</td>\n",
       "      <td>82800000</td>\n",
       "      <td>16.18</td>\n",
       "      <td>0.76</td>\n",
       "      <td>628876</td>\n",
       "      <td>82576900</td>\n",
       "      <td>2017-03-31</td>\n",
       "      <td>Official estimate</td>\n",
       "    </tr>\n",
       "    <tr>\n",
       "      <th>1</th>\n",
       "      <td>2</td>\n",
       "      <td>France</td>\n",
       "      <td>67210459</td>\n",
       "      <td>13.10</td>\n",
       "      <td>0.40</td>\n",
       "      <td>265557</td>\n",
       "      <td>67174000</td>\n",
       "      <td>2018-01-01</td>\n",
       "      <td>Monthly official estimate</td>\n",
       "    </tr>\n",
       "    <tr>\n",
       "      <th>2</th>\n",
       "      <td>3</td>\n",
       "      <td>United Kingdom</td>\n",
       "      <td>65808573</td>\n",
       "      <td>12.86</td>\n",
       "      <td>0.65</td>\n",
       "      <td>428793</td>\n",
       "      <td>65648100</td>\n",
       "      <td>2017-06-30</td>\n",
       "      <td>Official estimate</td>\n",
       "    </tr>\n",
       "    <tr>\n",
       "      <th>3</th>\n",
       "      <td>4</td>\n",
       "      <td>Italy</td>\n",
       "      <td>60589445</td>\n",
       "      <td>11.84</td>\n",
       "      <td>-0.13</td>\n",
       "      <td>-76001</td>\n",
       "      <td>60494000</td>\n",
       "      <td>2018-01-01</td>\n",
       "      <td>Monthly official estimate</td>\n",
       "    </tr>\n",
       "    <tr>\n",
       "      <th>4</th>\n",
       "      <td>5</td>\n",
       "      <td>Spain</td>\n",
       "      <td>46528966</td>\n",
       "      <td>9.09</td>\n",
       "      <td>0.19</td>\n",
       "      <td>89037</td>\n",
       "      <td>46549045</td>\n",
       "      <td>2017-07-01</td>\n",
       "      <td>Official estimate</td>\n",
       "    </tr>\n",
       "  </tbody>\n",
       "</table>\n",
       "</div>"
      ],
      "text/plain": [
       "   Rank         Country  2017 population  % of pop.  \\\n",
       "0     1        Germany          82800000      16.18   \n",
       "1     2          France         67210459      13.10   \n",
       "2     3  United Kingdom         65808573      12.86   \n",
       "3     4          Italy          60589445      11.84   \n",
       "4     5          Spain          46528966       9.09   \n",
       "\n",
       "   Average relative annual growth  Average absolute annual growth  \\\n",
       "0                            0.76                          628876   \n",
       "1                            0.40                          265557   \n",
       "2                            0.65                          428793   \n",
       "3                           -0.13                          -76001   \n",
       "4                            0.19                           89037   \n",
       "\n",
       "   Official figure Date of last figure                     Source  \n",
       "0         82576900          2017-03-31          Official estimate  \n",
       "1         67174000          2018-01-01  Monthly official estimate  \n",
       "2         65648100          2017-06-30          Official estimate  \n",
       "3         60494000          2018-01-01  Monthly official estimate  \n",
       "4         46549045          2017-07-01          Official estimate  "
      ]
     },
     "execution_count": 9,
     "metadata": {},
     "output_type": "execute_result"
    }
   ],
   "source": [
    "import pandas as pd\n",
    "\n",
    "!pip install openpyxl\n",
    "\n",
    "import openpyxl\n",
    "\n",
    "# Load the datasets\n",
    "# Load Europe and EU\n",
    "df = pd.read_excel(r\"Europe_and_EU.xlsx\", sheet_name = 'Europe')\n",
    "df1 = pd.read_excel(r\"Europe_and_EU.xlsx\", sheet_name = 'EU')\n",
    "\n",
    "# preview the data\n",
    "df.head()\n",
    "df1.head()"
   ]
  },
  {
   "cell_type": "code",
   "execution_count": 10,
   "id": "a3635bed",
   "metadata": {},
   "outputs": [],
   "source": [
    "# Clean whitespaces in the 'Country' column\n",
    "df['Country'] = df['Country'].str.strip()"
   ]
  },
  {
   "cell_type": "code",
   "execution_count": 11,
   "id": "1e7f2d4b",
   "metadata": {},
   "outputs": [],
   "source": [
    "df1[\"Country\"] = df[\"Country\"].str.strip()"
   ]
  },
  {
   "cell_type": "code",
   "execution_count": 13,
   "id": "28bd6e97",
   "metadata": {},
   "outputs": [],
   "source": [
    "# Remove leading/trailing and normalize internal whitespace\n",
    "df['Country'] = df['Country'].str.strip().str.replace(r'\\s+', ' ', regex=True)\n",
    "\n",
    "df1['Country'] = df1['Country'].str.strip().str.replace(r'\\s+', ' ', regex=True)\n"
   ]
  }
 ],
 "metadata": {
  "kernelspec": {
   "display_name": "Python 3",
   "language": "python",
   "name": "python3"
  },
  "language_info": {
   "codemirror_mode": {
    "name": "ipython",
    "version": 3
   },
   "file_extension": ".py",
   "mimetype": "text/x-python",
   "name": "python",
   "nbconvert_exporter": "python",
   "pygments_lexer": "ipython3",
   "version": "3.11.9"
  }
 },
 "nbformat": 4,
 "nbformat_minor": 5
}
